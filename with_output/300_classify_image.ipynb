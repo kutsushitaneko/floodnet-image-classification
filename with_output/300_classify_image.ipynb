{
 "cells": [
  {
   "cell_type": "code",
   "execution_count": 1,
   "metadata": {},
   "outputs": [],
   "source": [
    "import pandas as pd\n",
    "import numpy as np\n",
    "import ast"
   ]
  },
  {
   "cell_type": "code",
   "execution_count": 2,
   "metadata": {},
   "outputs": [
    {
     "name": "stdout",
     "output_type": "stream",
     "text": [
      "データ数: 1445\n",
      "埋め込みベクトルの次元: 1024\n"
     ]
    }
   ],
   "source": [
    "# CSVファイルを読み込む\n",
    "df_image_embeddings = pd.read_csv('image_embeddings.csv')\n",
    "\n",
    "# 文字列として保存された埋め込みベクトルをnumpy配列に変換\n",
    "df_image_embeddings['embedding'] = df_image_embeddings['embedding'].apply(lambda x: np.array(ast.literal_eval(x)))\n",
    "\n",
    "# 確認\n",
    "print(f\"データ数: {len(df_image_embeddings)}\")\n",
    "print(f\"埋め込みベクトルの次元: {len(df_image_embeddings['embedding'].iloc[0])}\")"
   ]
  },
  {
   "cell_type": "code",
   "execution_count": 3,
   "metadata": {},
   "outputs": [
    {
     "data": {
      "text/html": [
       "<style type=\"text/css\">\n",
       "#T_d2515 th {\n",
       "  text-align: left;\n",
       "  font-weight: bold;\n",
       "  white-space: nowrap;\n",
       "}\n",
       "#T_d2515 .row_heading {\n",
       "  display: none;\n",
       "}\n",
       "#T_d2515  .blank {\n",
       "  display: none;\n",
       "}\n",
       "#T_d2515 td {\n",
       "  padding: 5px;\n",
       "}\n",
       "#T_d2515_row0_col0, #T_d2515_row0_col1, #T_d2515_row0_col2, #T_d2515_row1_col0, #T_d2515_row1_col1, #T_d2515_row1_col2, #T_d2515_row2_col0, #T_d2515_row2_col1, #T_d2515_row2_col2, #T_d2515_row3_col0, #T_d2515_row3_col1, #T_d2515_row3_col2, #T_d2515_row4_col0, #T_d2515_row4_col1, #T_d2515_row4_col2 {\n",
       "  text-align: left;\n",
       "}\n",
       "</style>\n",
       "<table id=\"T_d2515\">\n",
       "  <thead>\n",
       "    <tr>\n",
       "      <th class=\"blank level0\" >&nbsp;</th>\n",
       "      <th id=\"T_d2515_level0_col0\" class=\"col_heading level0 col0\" >image_path</th>\n",
       "      <th id=\"T_d2515_level0_col1\" class=\"col_heading level0 col1\" >label</th>\n",
       "      <th id=\"T_d2515_level0_col2\" class=\"col_heading level0 col2\" >embedding</th>\n",
       "    </tr>\n",
       "  </thead>\n",
       "  <tbody>\n",
       "    <tr>\n",
       "      <th id=\"T_d2515_level0_row0\" class=\"row_heading level0 row0\" >0</th>\n",
       "      <td id=\"T_d2515_row0_col0\" class=\"data row0 col0\" >datasets\\floodnet\\FloodNet-Supervised_v1.0\\train\\train-org-img\\6279.jpg</td>\n",
       "      <td id=\"T_d2515_row0_col1\" class=\"data row0 col1\" >non-flooded</td>\n",
       "      <td id=\"T_d2515_row0_col2\" class=\"data row0 col2\" >[ 0.02572632 -0.03109741  0.01831055 ... -0.02651977 -0.03256226\n",
       " -0.01876831]</td>\n",
       "    </tr>\n",
       "    <tr>\n",
       "      <th id=\"T_d2515_level0_row1\" class=\"row_heading level0 row1\" >1</th>\n",
       "      <td id=\"T_d2515_row1_col0\" class=\"data row1 col0\" >datasets\\floodnet\\FloodNet-Supervised_v1.0\\train\\train-org-img\\6287.jpg</td>\n",
       "      <td id=\"T_d2515_row1_col1\" class=\"data row1 col1\" >non-flooded</td>\n",
       "      <td id=\"T_d2515_row1_col2\" class=\"data row1 col2\" >[ 0.00323868 -0.03903198  0.00982666 ... -0.00110531 -0.03105164\n",
       " -0.01791382]</td>\n",
       "    </tr>\n",
       "    <tr>\n",
       "      <th id=\"T_d2515_level0_row2\" class=\"row_heading level0 row2\" >2</th>\n",
       "      <td id=\"T_d2515_row2_col0\" class=\"data row2 col0\" >datasets\\floodnet\\FloodNet-Supervised_v1.0\\train\\train-org-img\\6332.jpg</td>\n",
       "      <td id=\"T_d2515_row2_col1\" class=\"data row2 col1\" >non-flooded</td>\n",
       "      <td id=\"T_d2515_row2_col2\" class=\"data row2 col2\" >[ 0.016922   -0.02352905  0.02267456 ... -0.00616074 -0.01163483\n",
       " -0.02653503]</td>\n",
       "    </tr>\n",
       "    <tr>\n",
       "      <th id=\"T_d2515_level0_row3\" class=\"row_heading level0 row3\" >3</th>\n",
       "      <td id=\"T_d2515_row3_col0\" class=\"data row3 col0\" >datasets\\floodnet\\FloodNet-Supervised_v1.0\\train\\train-org-img\\6334.jpg</td>\n",
       "      <td id=\"T_d2515_row3_col1\" class=\"data row3 col1\" >non-flooded</td>\n",
       "      <td id=\"T_d2515_row3_col2\" class=\"data row3 col2\" >[ 0.00160885 -0.02201843  0.01094055 ...  0.00256348 -0.01311493\n",
       " -0.02182007]</td>\n",
       "    </tr>\n",
       "    <tr>\n",
       "      <th id=\"T_d2515_level0_row4\" class=\"row_heading level0 row4\" >4</th>\n",
       "      <td id=\"T_d2515_row4_col0\" class=\"data row4 col0\" >datasets\\floodnet\\FloodNet-Supervised_v1.0\\train\\train-org-img\\6335.jpg</td>\n",
       "      <td id=\"T_d2515_row4_col1\" class=\"data row4 col1\" >non-flooded</td>\n",
       "      <td id=\"T_d2515_row4_col2\" class=\"data row4 col2\" >[ 0.00808716 -0.02084351  0.0138855  ... -0.01771545 -0.01469421\n",
       " -0.0254364 ]</td>\n",
       "    </tr>\n",
       "  </tbody>\n",
       "</table>\n"
      ],
      "text/plain": [
       "<pandas.io.formats.style.Styler at 0x19362e28bd0>"
      ]
     },
     "metadata": {},
     "output_type": "display_data"
    }
   ],
   "source": [
    "# データの確認\n",
    "display(df_image_embeddings.head().style\n",
    "    .set_properties(**{'text-align': 'left'})\n",
    "    .set_table_styles([\n",
    "        {'selector': 'th', 'props': [('text-align', 'left'), ('font-weight', 'bold'), ('white-space', 'nowrap')]},\n",
    "        {'selector': '.row_heading, .blank', 'props': [('display', 'none')]},\n",
    "        {'selector': 'td', 'props': [('padding', '5px')]}\n",
    "    ]))"
   ]
  },
  {
   "cell_type": "code",
   "execution_count": 4,
   "metadata": {},
   "outputs": [
    {
     "name": "stdout",
     "output_type": "stream",
     "text": [
      "label\n",
      "non-flooded    1263\n",
      "flooded         182\n",
      "Name: count, dtype: int64\n"
     ]
    }
   ],
   "source": [
    "# ラベルの分布確認\n",
    "print(df_image_embeddings['label'].value_counts())"
   ]
  },
  {
   "cell_type": "code",
   "execution_count": 5,
   "metadata": {},
   "outputs": [],
   "source": [
    "class_captions = [\n",
    "    'A satellite image of a non-flooded area of land.',\n",
    "    'A satellite image of a flooded area of land.'\n",
    "    ]\n"
   ]
  },
  {
   "cell_type": "code",
   "execution_count": 6,
   "metadata": {},
   "outputs": [],
   "source": [
    "class_labels = [\n",
    "    'non-flooded',\n",
    "    'flooded'\n",
    "    ]"
   ]
  },
  {
   "cell_type": "code",
   "execution_count": 7,
   "metadata": {},
   "outputs": [],
   "source": [
    "import cohere\n",
    "import os\n",
    "from dotenv import load_dotenv, find_dotenv"
   ]
  },
  {
   "cell_type": "code",
   "execution_count": 8,
   "metadata": {},
   "outputs": [],
   "source": [
    "_= load_dotenv(find_dotenv())"
   ]
  },
  {
   "cell_type": "code",
   "execution_count": 9,
   "metadata": {},
   "outputs": [
    {
     "data": {
      "text/plain": [
       "'embed-english-v3.0'"
      ]
     },
     "execution_count": 9,
     "metadata": {},
     "output_type": "execute_result"
    }
   ],
   "source": [
    "api_key = os.getenv(\"COHERE_API_KEY\")\n",
    "model_id = os.getenv(\"COHERE_EMBED_MODEL_ID\")\n",
    "model_id"
   ]
  },
  {
   "cell_type": "code",
   "execution_count": 10,
   "metadata": {},
   "outputs": [],
   "source": [
    "co = cohere.Client(api_key=api_key)"
   ]
  },
  {
   "cell_type": "code",
   "execution_count": 11,
   "metadata": {},
   "outputs": [],
   "source": [
    "ret = co.embed(\n",
    "    input_type=\"classification\",\n",
    "    texts=class_captions,\n",
    "    model=model_id,\n",
    "    embedding_types=[\"float\"],\n",
    ")\n",
    "class_embeddings = np.array(ret.embeddings.float)"
   ]
  },
  {
   "cell_type": "code",
   "execution_count": 12,
   "metadata": {},
   "outputs": [
    {
     "data": {
      "text/plain": [
       "(2, 1024)"
      ]
     },
     "execution_count": 12,
     "metadata": {},
     "output_type": "execute_result"
    }
   ],
   "source": [
    "class_embeddings.shape"
   ]
  },
  {
   "cell_type": "code",
   "execution_count": 13,
   "metadata": {},
   "outputs": [],
   "source": [
    "from sklearn.metrics.pairwise import cosine_similarity\n",
    "from scipy.special import softmax"
   ]
  },
  {
   "cell_type": "code",
   "execution_count": 14,
   "metadata": {},
   "outputs": [],
   "source": [
    "# 画像の埋め込みベクトルをスタック\n",
    "image_embeddings = np.stack(df_image_embeddings['embedding'].values)\n",
    "\n",
    "# コサイン類似度を計算\n",
    "similarities = cosine_similarity(image_embeddings, class_embeddings)\n",
    "\n",
    "# softmaxで確率に変換\n",
    "probabilities = softmax(similarities, axis=1)\n",
    "\n",
    "# 予測クラスを取得（0: non-flooded, 1: flooded）\n",
    "predicted_classes = np.argmax(probabilities, axis=1)\n",
    "\n",
    "# 結果をデータフレームに追加\n",
    "df_image_embeddings['predicted_label'] = [class_labels[i] for i in predicted_classes]\n",
    "df_image_embeddings['confidence'] = np.max(probabilities, axis=1)"
   ]
  },
  {
   "cell_type": "code",
   "execution_count": 15,
   "metadata": {},
   "outputs": [
    {
     "data": {
      "text/html": [
       "<style type=\"text/css\">\n",
       "#T_7cbfc th {\n",
       "  text-align: left;\n",
       "  font-weight: bold;\n",
       "  white-space: nowrap;\n",
       "}\n",
       "#T_7cbfc .row_heading {\n",
       "  display: none;\n",
       "}\n",
       "#T_7cbfc  .blank {\n",
       "  display: none;\n",
       "}\n",
       "#T_7cbfc td {\n",
       "  padding: 5px;\n",
       "}\n",
       "#T_7cbfc_row0_col0, #T_7cbfc_row0_col1, #T_7cbfc_row0_col2, #T_7cbfc_row0_col3, #T_7cbfc_row0_col4, #T_7cbfc_row1_col0, #T_7cbfc_row1_col1, #T_7cbfc_row1_col2, #T_7cbfc_row1_col3, #T_7cbfc_row1_col4, #T_7cbfc_row2_col0, #T_7cbfc_row2_col1, #T_7cbfc_row2_col2, #T_7cbfc_row2_col3, #T_7cbfc_row2_col4, #T_7cbfc_row3_col0, #T_7cbfc_row3_col1, #T_7cbfc_row3_col2, #T_7cbfc_row3_col3, #T_7cbfc_row3_col4, #T_7cbfc_row4_col0, #T_7cbfc_row4_col1, #T_7cbfc_row4_col2, #T_7cbfc_row4_col3, #T_7cbfc_row4_col4 {\n",
       "  text-align: left;\n",
       "}\n",
       "</style>\n",
       "<table id=\"T_7cbfc\">\n",
       "  <thead>\n",
       "    <tr>\n",
       "      <th class=\"blank level0\" >&nbsp;</th>\n",
       "      <th id=\"T_7cbfc_level0_col0\" class=\"col_heading level0 col0\" >image_path</th>\n",
       "      <th id=\"T_7cbfc_level0_col1\" class=\"col_heading level0 col1\" >label</th>\n",
       "      <th id=\"T_7cbfc_level0_col2\" class=\"col_heading level0 col2\" >embedding</th>\n",
       "      <th id=\"T_7cbfc_level0_col3\" class=\"col_heading level0 col3\" >predicted_label</th>\n",
       "      <th id=\"T_7cbfc_level0_col4\" class=\"col_heading level0 col4\" >confidence</th>\n",
       "    </tr>\n",
       "  </thead>\n",
       "  <tbody>\n",
       "    <tr>\n",
       "      <th id=\"T_7cbfc_level0_row0\" class=\"row_heading level0 row0\" >0</th>\n",
       "      <td id=\"T_7cbfc_row0_col0\" class=\"data row0 col0\" >datasets\\floodnet\\FloodNet-Supervised_v1.0\\train\\train-org-img\\6279.jpg</td>\n",
       "      <td id=\"T_7cbfc_row0_col1\" class=\"data row0 col1\" >non-flooded</td>\n",
       "      <td id=\"T_7cbfc_row0_col2\" class=\"data row0 col2\" >[ 0.02572632 -0.03109741  0.01831055 ... -0.02651977 -0.03256226\n",
       " -0.01876831]</td>\n",
       "      <td id=\"T_7cbfc_row0_col3\" class=\"data row0 col3\" >flooded</td>\n",
       "      <td id=\"T_7cbfc_row0_col4\" class=\"data row0 col4\" >0.511935</td>\n",
       "    </tr>\n",
       "    <tr>\n",
       "      <th id=\"T_7cbfc_level0_row1\" class=\"row_heading level0 row1\" >1</th>\n",
       "      <td id=\"T_7cbfc_row1_col0\" class=\"data row1 col0\" >datasets\\floodnet\\FloodNet-Supervised_v1.0\\train\\train-org-img\\6287.jpg</td>\n",
       "      <td id=\"T_7cbfc_row1_col1\" class=\"data row1 col1\" >non-flooded</td>\n",
       "      <td id=\"T_7cbfc_row1_col2\" class=\"data row1 col2\" >[ 0.00323868 -0.03903198  0.00982666 ... -0.00110531 -0.03105164\n",
       " -0.01791382]</td>\n",
       "      <td id=\"T_7cbfc_row1_col3\" class=\"data row1 col3\" >flooded</td>\n",
       "      <td id=\"T_7cbfc_row1_col4\" class=\"data row1 col4\" >0.500765</td>\n",
       "    </tr>\n",
       "    <tr>\n",
       "      <th id=\"T_7cbfc_level0_row2\" class=\"row_heading level0 row2\" >2</th>\n",
       "      <td id=\"T_7cbfc_row2_col0\" class=\"data row2 col0\" >datasets\\floodnet\\FloodNet-Supervised_v1.0\\train\\train-org-img\\6332.jpg</td>\n",
       "      <td id=\"T_7cbfc_row2_col1\" class=\"data row2 col1\" >non-flooded</td>\n",
       "      <td id=\"T_7cbfc_row2_col2\" class=\"data row2 col2\" >[ 0.016922   -0.02352905  0.02267456 ... -0.00616074 -0.01163483\n",
       " -0.02653503]</td>\n",
       "      <td id=\"T_7cbfc_row2_col3\" class=\"data row2 col3\" >non-flooded</td>\n",
       "      <td id=\"T_7cbfc_row2_col4\" class=\"data row2 col4\" >0.516070</td>\n",
       "    </tr>\n",
       "    <tr>\n",
       "      <th id=\"T_7cbfc_level0_row3\" class=\"row_heading level0 row3\" >3</th>\n",
       "      <td id=\"T_7cbfc_row3_col0\" class=\"data row3 col0\" >datasets\\floodnet\\FloodNet-Supervised_v1.0\\train\\train-org-img\\6334.jpg</td>\n",
       "      <td id=\"T_7cbfc_row3_col1\" class=\"data row3 col1\" >non-flooded</td>\n",
       "      <td id=\"T_7cbfc_row3_col2\" class=\"data row3 col2\" >[ 0.00160885 -0.02201843  0.01094055 ...  0.00256348 -0.01311493\n",
       " -0.02182007]</td>\n",
       "      <td id=\"T_7cbfc_row3_col3\" class=\"data row3 col3\" >non-flooded</td>\n",
       "      <td id=\"T_7cbfc_row3_col4\" class=\"data row3 col4\" >0.515104</td>\n",
       "    </tr>\n",
       "    <tr>\n",
       "      <th id=\"T_7cbfc_level0_row4\" class=\"row_heading level0 row4\" >4</th>\n",
       "      <td id=\"T_7cbfc_row4_col0\" class=\"data row4 col0\" >datasets\\floodnet\\FloodNet-Supervised_v1.0\\train\\train-org-img\\6335.jpg</td>\n",
       "      <td id=\"T_7cbfc_row4_col1\" class=\"data row4 col1\" >non-flooded</td>\n",
       "      <td id=\"T_7cbfc_row4_col2\" class=\"data row4 col2\" >[ 0.00808716 -0.02084351  0.0138855  ... -0.01771545 -0.01469421\n",
       " -0.0254364 ]</td>\n",
       "      <td id=\"T_7cbfc_row4_col3\" class=\"data row4 col3\" >non-flooded</td>\n",
       "      <td id=\"T_7cbfc_row4_col4\" class=\"data row4 col4\" >0.515276</td>\n",
       "    </tr>\n",
       "  </tbody>\n",
       "</table>\n"
      ],
      "text/plain": [
       "<pandas.io.formats.style.Styler at 0x1937f646450>"
      ]
     },
     "metadata": {},
     "output_type": "display_data"
    }
   ],
   "source": [
    "# 結果の確認\n",
    "display(df_image_embeddings.head().style\n",
    "    .set_properties(**{'text-align': 'left'})\n",
    "    .set_table_styles([\n",
    "        {'selector': 'th', 'props': [('text-align', 'left'), ('font-weight', 'bold'), ('white-space', 'nowrap')]},\n",
    "        {'selector': '.row_heading, .blank', 'props': [('display', 'none')]},\n",
    "        {'selector': 'td', 'props': [('padding', '5px')]}\n",
    "    ]))"
   ]
  },
  {
   "cell_type": "code",
   "execution_count": 16,
   "metadata": {},
   "outputs": [
    {
     "name": "stdout",
     "output_type": "stream",
     "text": [
      "\n",
      "正解率: 0.842\n"
     ]
    }
   ],
   "source": [
    "# 正解率の確認\n",
    "accuracy = (df_image_embeddings['label'] == df_image_embeddings['predicted_label']).mean()\n",
    "print(f\"\\n正解率: {accuracy:.3f}\")"
   ]
  },
  {
   "cell_type": "code",
   "execution_count": 17,
   "metadata": {},
   "outputs": [
    {
     "name": "stdout",
     "output_type": "stream",
     "text": [
      "適合率（Precision）: 0.439\n",
      "再現率（Recall）: 0.929\n",
      "F1スコア: 0.596\n",
      "\n",
      "詳細:\n",
      "True Positives (正しく浸水と予測): 169\n",
      "True Negatives (正しく非浸水と予測): 1047\n",
      "False Positives (誤って浸水と予測): 216\n",
      "False Negatives (浸水を見逃した数): 13\n",
      "実際の浸水画像の総数: 182\n",
      "実際の非浸水画像の総数: 1263\n",
      "総数: 1445\n"
     ]
    }
   ],
   "source": [
    "# 混同行列の要素を計算\n",
    "true_positives = ((df_image_embeddings['label'] == 'flooded') & \n",
    "                 (df_image_embeddings['predicted_label'] == 'flooded')).sum()\n",
    "true_negatives = ((df_image_embeddings['label'] == 'non-flooded') & \n",
    "                  (df_image_embeddings['predicted_label'] == 'non-flooded')).sum()\n",
    "false_positives = ((df_image_embeddings['label'] == 'non-flooded') & \n",
    "                  (df_image_embeddings['predicted_label'] == 'flooded')).sum()\n",
    "false_negatives = ((df_image_embeddings['label'] == 'flooded') & \n",
    "                  (df_image_embeddings['predicted_label'] == 'non-flooded')).sum()\n",
    "\n",
    "# 適合率（Precision）= TP / (TP + FP)\n",
    "precision = true_positives / (true_positives + false_positives)\n",
    "\n",
    "# 再現率（Recall）= TP / (TP + FN)\n",
    "recall = true_positives / (true_positives + false_negatives)\n",
    "\n",
    "# F1スコア = 2 * (precision * recall) / (precision + recall)\n",
    "f1_score = 2 * (precision * recall) / (precision + recall)\n",
    "\n",
    "print(f\"適合率（Precision）: {precision:.3f}\")\n",
    "print(f\"再現率（Recall）: {recall:.3f}\")\n",
    "print(f\"F1スコア: {f1_score:.3f}\")\n",
    "print(\"\\n詳細:\")\n",
    "print(f\"True Positives (正しく浸水と予測): {true_positives}\")\n",
    "print(f\"True Negatives (正しく非浸水と予測): {true_negatives}\")\n",
    "print(f\"False Positives (誤って浸水と予測): {false_positives}\")\n",
    "print(f\"False Negatives (浸水を見逃した数): {false_negatives}\")\n",
    "print(f\"実際の浸水画像の総数: {true_positives + false_negatives}\")\n",
    "print(f\"実際の非浸水画像の総数: {true_negatives + false_positives}\")\n",
    "print(f\"総数: {len(df_image_embeddings)}\")"
   ]
  },
  {
   "cell_type": "code",
   "execution_count": 18,
   "metadata": {},
   "outputs": [],
   "source": [
    "columns_to_save = ['image_path', 'label', 'predicted_label', 'confidence']\n",
    "df_image_embeddings[columns_to_save].to_csv('classified.csv', index=False)"
   ]
  },
  {
   "cell_type": "code",
   "execution_count": null,
   "metadata": {},
   "outputs": [],
   "source": []
  }
 ],
 "metadata": {
  "kernelspec": {
   "display_name": ".venv",
   "language": "python",
   "name": "python3"
  },
  "language_info": {
   "codemirror_mode": {
    "name": "ipython",
    "version": 3
   },
   "file_extension": ".py",
   "mimetype": "text/x-python",
   "name": "python",
   "nbconvert_exporter": "python",
   "pygments_lexer": "ipython3",
   "version": "3.11.9"
  }
 },
 "nbformat": 4,
 "nbformat_minor": 2
}
