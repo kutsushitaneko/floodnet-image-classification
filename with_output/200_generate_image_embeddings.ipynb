{
 "cells": [
  {
   "cell_type": "code",
   "execution_count": 1,
   "metadata": {},
   "outputs": [],
   "source": [
    "import pandas as pd"
   ]
  },
  {
   "cell_type": "code",
   "execution_count": 2,
   "metadata": {},
   "outputs": [
    {
     "data": {
      "text/plain": [
       "1445"
      ]
     },
     "execution_count": 2,
     "metadata": {},
     "output_type": "execute_result"
    }
   ],
   "source": [
    "# 全画像のラベルを csv から取得\n",
    "df = pd.read_csv('labels.csv')\n",
    "len(df)"
   ]
  },
  {
   "cell_type": "code",
   "execution_count": 3,
   "metadata": {},
   "outputs": [
    {
     "data": {
      "text/html": [
       "<div>\n",
       "<style scoped>\n",
       "    .dataframe tbody tr th:only-of-type {\n",
       "        vertical-align: middle;\n",
       "    }\n",
       "\n",
       "    .dataframe tbody tr th {\n",
       "        vertical-align: top;\n",
       "    }\n",
       "\n",
       "    .dataframe thead th {\n",
       "        text-align: right;\n",
       "    }\n",
       "</style>\n",
       "<table border=\"1\" class=\"dataframe\">\n",
       "  <thead>\n",
       "    <tr style=\"text-align: right;\">\n",
       "      <th></th>\n",
       "      <th>image_path</th>\n",
       "      <th>label</th>\n",
       "    </tr>\n",
       "  </thead>\n",
       "  <tbody>\n",
       "    <tr>\n",
       "      <th>1327</th>\n",
       "      <td>datasets\\floodnet\\FloodNet-Supervised_v1.0\\tra...</td>\n",
       "      <td>non-flooded</td>\n",
       "    </tr>\n",
       "    <tr>\n",
       "      <th>334</th>\n",
       "      <td>datasets\\floodnet\\FloodNet-Supervised_v1.0\\tra...</td>\n",
       "      <td>non-flooded</td>\n",
       "    </tr>\n",
       "    <tr>\n",
       "      <th>1166</th>\n",
       "      <td>datasets\\floodnet\\FloodNet-Supervised_v1.0\\tra...</td>\n",
       "      <td>non-flooded</td>\n",
       "    </tr>\n",
       "    <tr>\n",
       "      <th>767</th>\n",
       "      <td>datasets\\floodnet\\FloodNet-Supervised_v1.0\\tra...</td>\n",
       "      <td>non-flooded</td>\n",
       "    </tr>\n",
       "    <tr>\n",
       "      <th>1059</th>\n",
       "      <td>datasets\\floodnet\\FloodNet-Supervised_v1.0\\tra...</td>\n",
       "      <td>non-flooded</td>\n",
       "    </tr>\n",
       "  </tbody>\n",
       "</table>\n",
       "</div>"
      ],
      "text/plain": [
       "                                             image_path        label\n",
       "1327  datasets\\floodnet\\FloodNet-Supervised_v1.0\\tra...  non-flooded\n",
       "334   datasets\\floodnet\\FloodNet-Supervised_v1.0\\tra...  non-flooded\n",
       "1166  datasets\\floodnet\\FloodNet-Supervised_v1.0\\tra...  non-flooded\n",
       "767   datasets\\floodnet\\FloodNet-Supervised_v1.0\\tra...  non-flooded\n",
       "1059  datasets\\floodnet\\FloodNet-Supervised_v1.0\\tra...  non-flooded"
      ]
     },
     "execution_count": 3,
     "metadata": {},
     "output_type": "execute_result"
    }
   ],
   "source": [
    "# ランダムに5件のデータを表示\n",
    "df.sample(5)"
   ]
  },
  {
   "cell_type": "code",
   "execution_count": 4,
   "metadata": {},
   "outputs": [
    {
     "data": {
      "text/plain": [
       "label\n",
       "non-flooded    1263\n",
       "flooded         182\n",
       "Name: count, dtype: int64"
      ]
     },
     "execution_count": 4,
     "metadata": {},
     "output_type": "execute_result"
    }
   ],
   "source": [
    "# ラベルの分布を確認\n",
    "df['label'].value_counts()"
   ]
  },
  {
   "cell_type": "code",
   "execution_count": 5,
   "metadata": {},
   "outputs": [],
   "source": [
    "import cohere\n",
    "import os\n",
    "from dotenv import load_dotenv, find_dotenv\n",
    "from PIL import Image\n",
    "from io import BytesIO\n",
    "import base64\n",
    "from tqdm import tqdm"
   ]
  },
  {
   "cell_type": "code",
   "execution_count": 6,
   "metadata": {},
   "outputs": [],
   "source": [
    "_= load_dotenv(find_dotenv())"
   ]
  },
  {
   "cell_type": "code",
   "execution_count": 7,
   "metadata": {},
   "outputs": [
    {
     "data": {
      "text/plain": [
       "'embed-english-v3.0'"
      ]
     },
     "execution_count": 7,
     "metadata": {},
     "output_type": "execute_result"
    }
   ],
   "source": [
    "api_key = os.getenv(\"COHERE_API_KEY\")\n",
    "model_id = os.getenv(\"COHERE_EMBED_MODEL_ID\")\n",
    "model_id"
   ]
  },
  {
   "cell_type": "code",
   "execution_count": 8,
   "metadata": {},
   "outputs": [],
   "source": [
    "# 画像を base64 に変換してデータ URL を返す関数\n",
    "def image_to_base64_data_url(image_path):\n",
    "    with Image.open(image_path) as img:\n",
    "        buffered = BytesIO()\n",
    "        img.save(buffered, format=\"JPEG\")\n",
    "        img_base64 = base64.b64encode(buffered.getvalue()).decode(\"utf-8\")\n",
    "    data_url = f\"data:image/jpeg;base64,{img_base64}\"\n",
    "    return data_url"
   ]
  },
  {
   "cell_type": "code",
   "execution_count": 9,
   "metadata": {},
   "outputs": [],
   "source": [
    "co = cohere.Client(api_key=api_key)"
   ]
  },
  {
   "cell_type": "code",
   "execution_count": 10,
   "metadata": {},
   "outputs": [
    {
     "name": "stderr",
     "output_type": "stream",
     "text": [
      "100%|██████████| 1445/1445 [26:21<00:00,  1.09s/it]\n"
     ]
    }
   ],
   "source": [
    "# CSVファイルのヘッダーを初期化（最初の1回のみ）\n",
    "pd.DataFrame(columns=['image_path', 'label', 'embedding']).to_csv('image_embeddings.csv', index=False)\n",
    "\n",
    "# DataFrameをイテレーション\n",
    "for index, row in tqdm(df.iterrows(), total=len(df)):\n",
    "    image_path = row['image_path']\n",
    "    label = row['label']\n",
    "    \n",
    "    data_url = image_to_base64_data_url(image_path)\n",
    "    ret = co.embed(\n",
    "        input_type=\"image\",\n",
    "        images=[data_url],\n",
    "        model=model_id,\n",
    "        embedding_types=[\"float\"],                \n",
    "    )\n",
    "    \n",
    "    # 1件分のデータをDataFrameとして作成\n",
    "    embedding_df = pd.DataFrame([{\n",
    "        'image_path': image_path,\n",
    "        'label': label,\n",
    "        'embedding': ret.embeddings.float[0]\n",
    "    }])\n",
    "    \n",
    "    # mode='a'（append）とheader=Falseで追記モードで保存\n",
    "    embedding_df.to_csv('image_embeddings.csv', mode='a', header=False, index=False)"
   ]
  },
  {
   "cell_type": "code",
   "execution_count": null,
   "metadata": {},
   "outputs": [],
   "source": []
  }
 ],
 "metadata": {
  "kernelspec": {
   "display_name": ".venv",
   "language": "python",
   "name": "python3"
  },
  "language_info": {
   "codemirror_mode": {
    "name": "ipython",
    "version": 3
   },
   "file_extension": ".py",
   "mimetype": "text/x-python",
   "name": "python",
   "nbconvert_exporter": "python",
   "pygments_lexer": "ipython3",
   "version": "3.11.9"
  }
 },
 "nbformat": 4,
 "nbformat_minor": 2
}
