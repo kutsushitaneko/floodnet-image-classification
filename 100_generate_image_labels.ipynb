{
 "cells": [
  {
   "cell_type": "code",
   "execution_count": 1,
   "metadata": {},
   "outputs": [],
   "source": [
    "from pathlib import Path"
   ]
  },
  {
   "cell_type": "code",
   "execution_count": 2,
   "metadata": {},
   "outputs": [],
   "source": [
    "# 画像ファイルのリストを取得して、並べ替える\n",
    "image_paths = sorted(\n",
    "    Path(\"datasets/floodnet/FloodNet-Supervised_v1.0/train/train-org-img\").glob(\"*.jpg\"),\n",
    "    key=lambda p: int(p.stem)\n",
    ")"
   ]
  },
  {
   "cell_type": "code",
   "execution_count": null,
   "metadata": {},
   "outputs": [],
   "source": [
    "len(image_paths)"
   ]
  },
  {
   "cell_type": "code",
   "execution_count": null,
   "metadata": {},
   "outputs": [],
   "source": [
    "# 先頭5件のパスを確認\n",
    "image_paths[:5]"
   ]
  },
  {
   "cell_type": "code",
   "execution_count": 5,
   "metadata": {},
   "outputs": [],
   "source": [
    "from IPython.display import display\n",
    "from PIL import Image"
   ]
  },
  {
   "cell_type": "code",
   "execution_count": null,
   "metadata": {},
   "outputs": [],
   "source": [
    "# 先頭の画像を表示\n",
    "display(Image.open(image_paths[0]).resize((400,300)))"
   ]
  },
  {
   "cell_type": "code",
   "execution_count": null,
   "metadata": {},
   "outputs": [],
   "source": [
    "image_paths[0]"
   ]
  },
  {
   "cell_type": "code",
   "execution_count": 8,
   "metadata": {},
   "outputs": [],
   "source": [
    "image_name = image_paths[0].stem"
   ]
  },
  {
   "cell_type": "code",
   "execution_count": null,
   "metadata": {},
   "outputs": [],
   "source": [
    "# 先頭の画像のカラーマスクのパスを確認\n",
    "colormask_path = Path(r\"datasets\\floodnet\\ColorMasks-FloodNetv1.0\\ColorMasks-TrainSet\") / f\"{image_name}_lab.png\"\n",
    "colormask_path"
   ]
  },
  {
   "cell_type": "code",
   "execution_count": null,
   "metadata": {},
   "outputs": [],
   "source": [
    "# 先頭の画像のカラーマスクを表示\n",
    "display(Image.open(colormask_path).resize((400,300)))"
   ]
  },
  {
   "cell_type": "code",
   "execution_count": 11,
   "metadata": {},
   "outputs": [],
   "source": [
    "from tqdm import tqdm"
   ]
  },
  {
   "cell_type": "code",
   "execution_count": 12,
   "metadata": {},
   "outputs": [],
   "source": [
    "# 各画像のカラーマスクのピクセル値を調べてラベルを決定する関数\n",
    "def label_from_colormask(image_path):\n",
    "    colormask_path = Path(\"datasets/floodnet/ColorMasks-FloodNetv1.0/ColorMasks-TrainSet\") / f\"{image_path.stem}_lab.png\"\n",
    "    color_mask = Image.open(colormask_path).convert('RGB')\n",
    "    all_pixels = list(color_mask.getdata())\n",
    "    unique_colors = [str(color) for color in (set(all_pixels))]\n",
    "\n",
    "    flood_colors = [\n",
    "        (255,0,0), # building-flooded\n",
    "        (160, 150, 20), # road-flooded\n",
    "    ]\n",
    "    is_flooded = any(str(colormask) in unique_colors for colormask in flood_colors)\n",
    "    return \"flooded\" if is_flooded else \"non-flooded\"\n"
   ]
  },
  {
   "cell_type": "code",
   "execution_count": null,
   "metadata": {},
   "outputs": [],
   "source": [
    "# 各画像のラベルを取得\n",
    "labels = []\n",
    "for image_path in tqdm(image_paths):\n",
    "    labels.append(label_from_colormask(image_path))\n",
    "\n",
    "labels[:5]"
   ]
  },
  {
   "cell_type": "code",
   "execution_count": 14,
   "metadata": {},
   "outputs": [],
   "source": [
    "import pandas as pd\n",
    "\n",
    "df = pd.DataFrame({\n",
    "    'image_path': [str(path) for path in image_paths],\n",
    "    'label': labels\n",
    "})"
   ]
  },
  {
   "cell_type": "code",
   "execution_count": null,
   "metadata": {},
   "outputs": [],
   "source": [
    "# ラベルの分布を確認\n",
    "df['label'].value_counts()"
   ]
  },
  {
   "cell_type": "code",
   "execution_count": 16,
   "metadata": {},
   "outputs": [],
   "source": [
    "# ラベルを csv へ出力\n",
    "df.to_csv('labels.csv', index=False)"
   ]
  },
  {
   "cell_type": "code",
   "execution_count": null,
   "metadata": {},
   "outputs": [],
   "source": []
  }
 ],
 "metadata": {
  "kernelspec": {
   "display_name": ".venv",
   "language": "python",
   "name": "python3"
  },
  "language_info": {
   "codemirror_mode": {
    "name": "ipython",
    "version": 3
   },
   "file_extension": ".py",
   "mimetype": "text/x-python",
   "name": "python",
   "nbconvert_exporter": "python",
   "pygments_lexer": "ipython3",
   "version": "3.11.9"
  }
 },
 "nbformat": 4,
 "nbformat_minor": 2
}
