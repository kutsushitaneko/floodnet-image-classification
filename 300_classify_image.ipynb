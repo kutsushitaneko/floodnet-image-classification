{
 "cells": [
  {
   "cell_type": "code",
   "execution_count": 1,
   "metadata": {},
   "outputs": [],
   "source": [
    "import pandas as pd\n",
    "import numpy as np\n",
    "import ast"
   ]
  },
  {
   "cell_type": "code",
   "execution_count": null,
   "metadata": {},
   "outputs": [],
   "source": [
    "# CSVファイルを読み込む\n",
    "df_image_embeddings = pd.read_csv('image_embeddings.csv')\n",
    "\n",
    "# 文字列として保存された埋め込みベクトルをnumpy配列に変換\n",
    "df_image_embeddings['embedding'] = df_image_embeddings['embedding'].apply(lambda x: np.array(ast.literal_eval(x)))\n",
    "\n",
    "# 確認\n",
    "print(f\"データ数: {len(df_image_embeddings)}\")\n",
    "print(f\"埋め込みベクトルの次元: {len(df_image_embeddings['embedding'].iloc[0])}\")"
   ]
  },
  {
   "cell_type": "code",
   "execution_count": null,
   "metadata": {},
   "outputs": [],
   "source": [
    "# データの確認\n",
    "display(df_image_embeddings.head().style\n",
    "    .set_properties(**{'text-align': 'left'})\n",
    "    .set_table_styles([\n",
    "        {'selector': 'th', 'props': [('text-align', 'left'), ('font-weight', 'bold'), ('white-space', 'nowrap')]},\n",
    "        {'selector': '.row_heading, .blank', 'props': [('display', 'none')]},\n",
    "        {'selector': 'td', 'props': [('padding', '5px')]}\n",
    "    ]))"
   ]
  },
  {
   "cell_type": "code",
   "execution_count": null,
   "metadata": {},
   "outputs": [],
   "source": [
    "# ラベルの分布確認\n",
    "print(df_image_embeddings['label'].value_counts())"
   ]
  },
  {
   "cell_type": "code",
   "execution_count": 5,
   "metadata": {},
   "outputs": [],
   "source": [
    "class_captions = [\n",
    "    'A satellite image of a non-flooded area of land.',\n",
    "    'A satellite image of a flooded area of land.'\n",
    "    ]\n"
   ]
  },
  {
   "cell_type": "code",
   "execution_count": 6,
   "metadata": {},
   "outputs": [],
   "source": [
    "class_labels = [\n",
    "    'non-flooded',\n",
    "    'flooded'\n",
    "    ]"
   ]
  },
  {
   "cell_type": "code",
   "execution_count": 7,
   "metadata": {},
   "outputs": [],
   "source": [
    "import cohere\n",
    "import os\n",
    "from dotenv import load_dotenv, find_dotenv"
   ]
  },
  {
   "cell_type": "code",
   "execution_count": 8,
   "metadata": {},
   "outputs": [],
   "source": [
    "_= load_dotenv(find_dotenv())"
   ]
  },
  {
   "cell_type": "code",
   "execution_count": null,
   "metadata": {},
   "outputs": [],
   "source": [
    "api_key = os.getenv(\"COHERE_API_KEY\")\n",
    "model_id = os.getenv(\"COHERE_EMBED_MODEL_ID\")\n",
    "model_id"
   ]
  },
  {
   "cell_type": "code",
   "execution_count": 10,
   "metadata": {},
   "outputs": [],
   "source": [
    "co = cohere.Client(api_key=api_key)"
   ]
  },
  {
   "cell_type": "code",
   "execution_count": 11,
   "metadata": {},
   "outputs": [],
   "source": [
    "ret = co.embed(\n",
    "    input_type=\"classification\",\n",
    "    texts=class_captions,\n",
    "    model=model_id,\n",
    "    embedding_types=[\"float\"],\n",
    ")\n",
    "class_embeddings = np.array(ret.embeddings.float)"
   ]
  },
  {
   "cell_type": "code",
   "execution_count": null,
   "metadata": {},
   "outputs": [],
   "source": [
    "class_embeddings.shape"
   ]
  },
  {
   "cell_type": "code",
   "execution_count": 13,
   "metadata": {},
   "outputs": [],
   "source": [
    "from sklearn.metrics.pairwise import cosine_similarity\n",
    "from scipy.special import softmax"
   ]
  },
  {
   "cell_type": "code",
   "execution_count": 14,
   "metadata": {},
   "outputs": [],
   "source": [
    "# 画像の埋め込みベクトルをスタック\n",
    "image_embeddings = np.stack(df_image_embeddings['embedding'].values)\n",
    "\n",
    "# コサイン類似度を計算\n",
    "similarities = cosine_similarity(image_embeddings, class_embeddings)\n",
    "\n",
    "# softmaxで確率に変換\n",
    "probabilities = softmax(similarities, axis=1)\n",
    "\n",
    "# 予測クラスを取得（0: non-flooded, 1: flooded）\n",
    "predicted_classes = np.argmax(probabilities, axis=1)\n",
    "\n",
    "# 結果をデータフレームに追加\n",
    "df_image_embeddings['predicted_label'] = [class_labels[i] for i in predicted_classes]\n",
    "df_image_embeddings['confidence'] = np.max(probabilities, axis=1)"
   ]
  },
  {
   "cell_type": "code",
   "execution_count": null,
   "metadata": {},
   "outputs": [],
   "source": [
    "# 結果の確認\n",
    "display(df_image_embeddings.head().style\n",
    "    .set_properties(**{'text-align': 'left'})\n",
    "    .set_table_styles([\n",
    "        {'selector': 'th', 'props': [('text-align', 'left'), ('font-weight', 'bold'), ('white-space', 'nowrap')]},\n",
    "        {'selector': '.row_heading, .blank', 'props': [('display', 'none')]},\n",
    "        {'selector': 'td', 'props': [('padding', '5px')]}\n",
    "    ]))"
   ]
  },
  {
   "cell_type": "code",
   "execution_count": null,
   "metadata": {},
   "outputs": [],
   "source": [
    "# 正解率の確認\n",
    "accuracy = (df_image_embeddings['label'] == df_image_embeddings['predicted_label']).mean()\n",
    "print(f\"\\n正解率: {accuracy:.3f}\")"
   ]
  },
  {
   "cell_type": "code",
   "execution_count": null,
   "metadata": {},
   "outputs": [],
   "source": [
    "# 混同行列の要素を計算\n",
    "true_positives = ((df_image_embeddings['label'] == 'flooded') & \n",
    "                 (df_image_embeddings['predicted_label'] == 'flooded')).sum()\n",
    "true_negatives = ((df_image_embeddings['label'] == 'non-flooded') & \n",
    "                  (df_image_embeddings['predicted_label'] == 'non-flooded')).sum()\n",
    "false_positives = ((df_image_embeddings['label'] == 'non-flooded') & \n",
    "                  (df_image_embeddings['predicted_label'] == 'flooded')).sum()\n",
    "false_negatives = ((df_image_embeddings['label'] == 'flooded') & \n",
    "                  (df_image_embeddings['predicted_label'] == 'non-flooded')).sum()\n",
    "\n",
    "# 適合率（Precision）= TP / (TP + FP)\n",
    "precision = true_positives / (true_positives + false_positives)\n",
    "\n",
    "# 再現率（Recall）= TP / (TP + FN)\n",
    "recall = true_positives / (true_positives + false_negatives)\n",
    "\n",
    "# F1スコア = 2 * (precision * recall) / (precision + recall)\n",
    "f1_score = 2 * (precision * recall) / (precision + recall)\n",
    "\n",
    "print(f\"適合率（Precision）: {precision:.3f}\")\n",
    "print(f\"再現率（Recall）: {recall:.3f}\")\n",
    "print(f\"F1スコア: {f1_score:.3f}\")\n",
    "print(\"\\n詳細:\")\n",
    "print(f\"True Positives (正しく浸水と予測): {true_positives}\")\n",
    "print(f\"True Negatives (正しく非浸水と予測): {true_negatives}\")\n",
    "print(f\"False Positives (誤って浸水と予測): {false_positives}\")\n",
    "print(f\"False Negatives (浸水を見逃した数): {false_negatives}\")\n",
    "print(f\"実際の浸水画像の総数: {true_positives + false_negatives}\")\n",
    "print(f\"実際の非浸水画像の総数: {true_negatives + false_positives}\")\n",
    "print(f\"総数: {len(df_image_embeddings)}\")"
   ]
  },
  {
   "cell_type": "code",
   "execution_count": 18,
   "metadata": {},
   "outputs": [],
   "source": [
    "columns_to_save = ['image_path', 'label', 'predicted_label', 'confidence']\n",
    "df_image_embeddings[columns_to_save].to_csv('classified.csv', index=False)"
   ]
  },
  {
   "cell_type": "code",
   "execution_count": null,
   "metadata": {},
   "outputs": [],
   "source": []
  }
 ],
 "metadata": {
  "kernelspec": {
   "display_name": ".venv",
   "language": "python",
   "name": "python3"
  },
  "language_info": {
   "codemirror_mode": {
    "name": "ipython",
    "version": 3
   },
   "file_extension": ".py",
   "mimetype": "text/x-python",
   "name": "python",
   "nbconvert_exporter": "python",
   "pygments_lexer": "ipython3",
   "version": "3.11.9"
  }
 },
 "nbformat": 4,
 "nbformat_minor": 2
}
